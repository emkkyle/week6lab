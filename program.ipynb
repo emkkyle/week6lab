{
 "cells": [
  {
   "cell_type": "code",
   "execution_count": 16,
   "metadata": {},
   "outputs": [
    {
     "name": "stdin",
     "output_type": "stream",
     "text": [
      "What is your name? Emily\n",
      "What month were you born? (MM) 03\n",
      "And what day were you born? (DD) 26\n",
      "Finally, what year were you born? (YYYY) 2002\n",
      "What month is it today? (MM) 09\n",
      "And what day is it today? (DD) 27\n",
      "And what year is it today? (YYYY) 2020\n"
     ]
    },
    {
     "name": "stdout",
     "output_type": "stream",
     "text": [
      "Hi Emily, there are 180 days left until your 18 birthday!\n"
     ]
    }
   ],
   "source": [
    "from datetime import datetime\n",
    "\n",
    "def getDay(day,month,year):\n",
    "    bday = datetime(year, month, day)\n",
    "    return bday\n",
    "\n",
    "def calc_days(date, now):\n",
    "    if (now.month == date.month and now.day == date.day):\n",
    "        return\n",
    "    if (now.month >= date.month and now.day > date.day):\n",
    "        bday = datetime(now.year+1, date.month, date.day)#if the birthday has happened this year\n",
    "    else:\n",
    "        bday = datetime(now.year, date.month, date.day) #if the birthday has not yet happened this year\n",
    "    remainingDays = (bday - now).days\n",
    "    return remainingDays\n",
    "\n",
    "def calc_age(date, now):\n",
    "    if (now.month >= date.month and now.day >= date.day):\n",
    "        userAge = (now.year - date.year)\n",
    "        return userAge\n",
    "    else:\n",
    "        userAge = ((now.year+1) - date.year)\n",
    "        return userAge\n",
    "\n",
    "name = input(\"What is your name?\")\n",
    "birthMonth = int(input(\"What month were you born? (MM)\"))\n",
    "birthDay = int(input(\"And what day were you born? (DD)\"))\n",
    "birthYear = int(input(\"Finally, what year were you born? (YYYY)\"))\n",
    "nowMonth = int(input(\"What month is it today? (MM)\"))\n",
    "nowDay = int(input(\"And what day is it today? (DD)\"))\n",
    "nowYear = int(input(\"And what year is it today? (YYYY)\"))\n",
    "\n",
    "bdaydate = getDay(birthDay,birthMonth,birthYear)\n",
    "now = getDay(nowDay,nowMonth,nowYear)\n",
    "\n",
    "days = str(calc_days(bdaydate, now))\n",
    "age = str(calc_age(bdaydate, now))\n",
    "\n",
    "print(\"Hi \" + name + \", there are \" + days + \" days left until your \" + age + \" birthday!\")"
   ]
  },
  {
   "cell_type": "code",
   "execution_count": null,
   "metadata": {},
   "outputs": [],
   "source": []
  }
 ],
 "metadata": {
  "kernelspec": {
   "display_name": "Python 3",
   "language": "python",
   "name": "python3"
  },
  "language_info": {
   "codemirror_mode": {
    "name": "ipython",
    "version": 3
   },
   "file_extension": ".py",
   "mimetype": "text/x-python",
   "name": "python",
   "nbconvert_exporter": "python",
   "pygments_lexer": "ipython3",
   "version": "3.8.3"
  }
 },
 "nbformat": 4,
 "nbformat_minor": 4
}
